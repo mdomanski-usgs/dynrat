{
 "nbformat": 4,
 "nbformat_minor": 2,
 "metadata": {
  "language_info": {
   "name": "python",
   "codemirror_mode": {
    "name": "ipython",
    "version": 3
   },
   "version": "3.7.5-final"
  },
  "orig_nbformat": 2,
  "file_extension": ".py",
  "mimetype": "text/x-python",
  "name": "python",
  "npconvert_exporter": "python",
  "pygments_lexer": "ipython3",
  "version": 3,
  "kernelspec": {
   "name": "dynratenv",
   "display_name": "Python (dynrat)"
  }
 },
 "cells": [
  {
   "cell_type": "code",
   "execution_count": 1,
   "metadata": {},
   "outputs": [],
   "source": [
    "%matplotlib inline\n",
    "\n",
    "import numpy as np\n",
    "import pandas as pd\n",
    "\n",
    "from pantherapy.panthera import CrossSection\n",
    "\n",
    "from r_slope import r_slope"
   ]
  },
  {
   "cell_type": "code",
   "execution_count": 2,
   "metadata": {},
   "outputs": [],
   "source": [
    "roughness = 0.035\n",
    "\n",
    "z, y = np.loadtxt('../examples/data/stlms/xs.csv', delimiter=',', skiprows=1, unpack=True)\n",
    "\n",
    "datum = 379.58\n",
    "y = y - datum\n",
    "\n",
    "sect = CrossSection(y, z, roughness)"
   ]
  },
  {
   "cell_type": "code",
   "execution_count": 3,
   "metadata": {},
   "outputs": [],
   "source": [
    "h_o = 26.78\n",
    "h_p = 26.79\n",
    "Q_o = 439000\n",
    "Q_p = 450000\n",
    "S_o = 0.00011\n",
    "t_diff = 60*60\n",
    ""
   ]
  },
  {
   "cell_type": "code",
   "execution_count": 4,
   "metadata": {},
   "outputs": [
    {
     "output_type": "execute_result",
     "data": {
      "text/plain": "23600721.221583318"
     },
     "metadata": {},
     "execution_count": 4
    }
   ],
   "source": [
    "r_func = r_slope(h_o, h_p, Q_o, Q_p, S_o, sect, t_diff)\n",
    "r_func"
   ]
  },
  {
   "cell_type": "code",
   "execution_count": null,
   "metadata": {},
   "outputs": [],
   "source": []
  }
 ]
}