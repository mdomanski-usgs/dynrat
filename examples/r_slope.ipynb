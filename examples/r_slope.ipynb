{
 "cells": [
  {
   "cell_type": "code",
   "execution_count": 1,
   "metadata": {},
   "outputs": [],
   "source": [
    "%matplotlib inline\n",
    "\n",
    "import numpy as np\n",
    "import pandas as pd\n",
    "\n",
    "from anchovy.crosssection import CrossSection\n",
    "\n",
    "from dynrat.rslope import r_slope"
   ]
  },
  {
   "cell_type": "code",
   "execution_count": 2,
   "metadata": {},
   "outputs": [],
   "source": [
    "roughness = 0.035\n",
    "\n",
    "station, elevation = np.loadtxt('../examples/data/stlms/xs.csv', delimiter=',', skiprows=1, unpack=True)\n",
    "\n",
    "datum = 379.58\n",
    "elevation = elevation - datum\n",
    "\n",
    "sect = CrossSection(station, elevation, roughness)"
   ]
  },
  {
   "cell_type": "code",
   "execution_count": 3,
   "metadata": {},
   "outputs": [
    {
     "data": {
      "text/plain": [
       "20.57622007239143"
      ]
     },
     "execution_count": 3,
     "metadata": {},
     "output_type": "execute_result"
    }
   ],
   "source": [
    "h_o = 4.68\n",
    "h_p = 24.18\n",
    "Q_o = 129000\n",
    "Q_p = 396000\n",
    "S_o = 0.00011\n",
    "t_diff = 7.58\n",
    "\n",
    "r_slope(h_o, h_p, Q_o, Q_p, S_o, sect, t_diff)"
   ]
  }
 ],
 "metadata": {
  "file_extension": ".py",
  "kernelspec": {
   "display_name": "Python (dynrat)",
   "language": "python",
   "name": "dynratenv"
  },
  "language_info": {
   "codemirror_mode": {
    "name": "ipython",
    "version": 3
   },
   "file_extension": ".py",
   "mimetype": "text/x-python",
   "name": "python",
   "nbconvert_exporter": "python",
   "pygments_lexer": "ipython3",
   "version": "3.7.7"
  },
  "mimetype": "text/x-python",
  "name": "python",
  "npconvert_exporter": "python",
  "pygments_lexer": "ipython3",
  "version": 3
 },
 "nbformat": 4,
 "nbformat_minor": 2
}
